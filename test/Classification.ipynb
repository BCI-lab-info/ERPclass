{
 "cells": [
  {
   "cell_type": "markdown",
   "metadata": {},
   "source": [
    "# Classification\n",
    "\n",
    "* Roadmap\n",
    "    * Signal (Put all subjects together)\n",
    "        * all channel\n",
    "            * no filter\n",
    "            * low pass\n",
    "        * averaged signal\n",
    "            * no filter\n",
    "            * low pass\n",
    "    * Algorithm\n",
    "        * Linear Model: Logistic Regression, SVM, PA\n",
    "        * Nonlinear Model: SVM (RBF kernel)\n",
    "        * Neural Network\n",
    "\n",
    "\n",
    "* ***WARNING [order of the feature > sample size] ***\n",
    "    * large epoch (like in neural net)\n",
    "    * down sampliing (FIR filter)\n",
    "    * averaging 16 channels -> 1 channel\n"
   ]
  },
  {
   "cell_type": "code",
   "execution_count": 8,
   "metadata": {
    "collapsed": true
   },
   "outputs": [],
   "source": [
    "import glob\n",
    "import sklearn\n",
    "import numpy as np\n",
    "from filtering import filtering"
   ]
  },
  {
   "cell_type": "code",
   "execution_count": 5,
   "metadata": {},
   "outputs": [],
   "source": [
    "audio = glob.glob(\"../data/sample1/audio/*\")"
   ]
  },
  {
   "cell_type": "code",
   "execution_count": 11,
   "metadata": {
    "collapsed": true
   },
   "outputs": [],
   "source": [
    "def modify_data(full_data, fil):\n",
    "    test_data = None\n",
    "    test_label = np.array([])\n",
    "    train_data = None\n",
    "    train_label = np.array([])\n",
    "    for d_ in full_data:\n",
    "        file_name = d_.split('/')[-1]\n",
    "        d__ = np.load(d_)\n",
    "        label = d__.items()[0][1]\n",
    "        data = d__.items()[1][1]\n",
    "#         data = np.concatenate([med_filter(data[i,:,:]) for i in len(data)], axis=0)\n",
    "#         print(data.shape, len(data))\n",
    "#         data = med_filter(data)\n",
    "#         print(data.shape)\n",
    "        if \"test\" in file_name.split('_')[2]:\n",
    "            test_label = np.append(test_label, label)\n",
    "            if test_data is None:\n",
    "                test_data = data\n",
    "            else:\n",
    "                test_data = np.concatenate((test_data, data), axis=0)\n",
    "        else:\n",
    "            train_label = np.append(train_label, label)            \n",
    "            if train_data is None:\n",
    "                train_data = data\n",
    "            else:\n",
    "                train_data = np.concatenate((train_data, data), axis=0)\n",
    "    return test_data, test_label, train_data, train_label\n",
    "\n",
    "trg = modify_data(audio)"
   ]
  },
  {
   "cell_type": "code",
   "execution_count": 15,
   "metadata": {},
   "outputs": [
    {
     "data": {
      "text/plain": [
       "(8250, 16, 614)"
      ]
     },
     "execution_count": 15,
     "metadata": {},
     "output_type": "execute_result"
    }
   ],
   "source": [
    "trg[0].shape"
   ]
  }
 ],
 "metadata": {
  "kernelspec": {
   "display_name": "Python 3",
   "language": "python",
   "name": "python3"
  },
  "language_info": {
   "codemirror_mode": {
    "name": "ipython",
    "version": 3
   },
   "file_extension": ".py",
   "mimetype": "text/x-python",
   "name": "python",
   "nbconvert_exporter": "python",
   "pygments_lexer": "ipython3",
   "version": "3.5.0"
  }
 },
 "nbformat": 4,
 "nbformat_minor": 2
}
